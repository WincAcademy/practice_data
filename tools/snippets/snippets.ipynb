{
  "nbformat": 4,
  "nbformat_minor": 0,
  "metadata": {
    "colab": {
      "name": "snippets.ipynb",
      "provenance": [],
      "collapsed_sections": [
        "kzvXsiQLHAg8",
        "rWsxVYSAHNRa",
        "IFEMBwPAMqYT",
        "28e4f4kJJD4L",
        "V_KuxGYV4yPE",
        "HVjUZey15Gjc",
        "bSdfBifE68J9"
      ]
    },
    "kernelspec": {
      "name": "python3",
      "display_name": "Python 3"
    },
    "language_info": {
      "name": "python"
    }
  },
  "cells": [
    {
      "cell_type": "markdown",
      "metadata": {
        "id": "kzvXsiQLHAg8"
      },
      "source": [
        "# Default imports"
      ]
    },
    {
      "cell_type": "code",
      "metadata": {
        "id": "wav5CCd4G0Sx"
      },
      "source": [
        "import numpy as np\n",
        "import pandas as pd"
      ],
      "execution_count": null,
      "outputs": []
    },
    {
      "cell_type": "markdown",
      "metadata": {
        "id": "rWsxVYSAHNRa"
      },
      "source": [
        "# Show more rows by default\n",
        "\n",
        "We need to set `min_rows` if we want to see more when truncated.\n",
        "\n",
        "- [Docs](https://pandas.pydata.org/pandas-docs/stable/user_guide/options.html)\n",
        "- [Stack Overflow answer](https://stackoverflow.com/a/57861411/61109)\n"
      ]
    },
    {
      "cell_type": "code",
      "metadata": {
        "id": "F6mOw7fFHAyt"
      },
      "source": [
        "pd.set_option('display.max_rows', 100) # default 60, None means all\n",
        "pd.set_option('display.min_rows', 50) # default 10"
      ],
      "execution_count": null,
      "outputs": []
    },
    {
      "cell_type": "markdown",
      "metadata": {
        "id": "IFEMBwPAMqYT"
      },
      "source": [
        "# Show more/less columns\n",
        "[More info](https://pandas.pydata.org/pandas-docs/stable/user_guide/options.html#frequently-used-options)"
      ]
    },
    {
      "cell_type": "code",
      "metadata": {
        "id": "ADXB2XIxMttn"
      },
      "source": [
        "pd.set_option('display.max_columns', 15)"
      ],
      "execution_count": null,
      "outputs": []
    },
    {
      "cell_type": "markdown",
      "metadata": {
        "id": "28e4f4kJJD4L"
      },
      "source": [
        "# Don't use scientific notation\n",
        "[More info](https://pandas.pydata.org/pandas-docs/stable/user_guide/options.html?highlight=float_format)"
      ]
    },
    {
      "cell_type": "code",
      "metadata": {
        "id": "1pUXhq_eJGLr"
      },
      "source": [
        "pd.options.display.float_format = '{:.2f}'.format"
      ],
      "execution_count": null,
      "outputs": []
    },
    {
      "cell_type": "markdown",
      "metadata": {
        "id": "v49_FXUCJtuG"
      },
      "source": [
        "# Load datatables extension\n",
        "[More info](https://colab.research.google.com/notebooks/data_table.ipynb#scrollTo=oEQUmjXkHZz-)"
      ]
    },
    {
      "cell_type": "code",
      "metadata": {
        "id": "TJt5pN3_JxCe"
      },
      "source": [
        "%load_ext google.colab.data_table"
      ],
      "execution_count": null,
      "outputs": []
    },
    {
      "cell_type": "markdown",
      "metadata": {
        "id": "c606OgS7KgB2"
      },
      "source": [
        "# Show value of last line\n",
        "Even if it's an assignment.\n",
        "\n",
        "⚠️ [This does not work on Google Colab](https://stackoverflow.com/questions/62229579/google-collab-how-to-show-value-of-assignments)\n",
        "\n",
        "[More info.](https://ipython.readthedocs.io/en/stable/config/options/terminal.html#configtrait-InteractiveShell.ast_node_interactivity)"
      ]
    },
    {
      "cell_type": "code",
      "metadata": {
        "id": "7h5AXfZNKs4q"
      },
      "source": [
        "from IPython.core.interactiveshell import InteractiveShell\n",
        "InteractiveShell.ast_node_interactivity = \"last_expr_or_assign\""
      ],
      "execution_count": null,
      "outputs": []
    },
    {
      "cell_type": "markdown",
      "metadata": {
        "id": "DZ3-d1Wzi8ae"
      },
      "source": [
        "# Connect to Google Drive"
      ]
    },
    {
      "cell_type": "code",
      "metadata": {
        "id": "-czT3tsqi-NP"
      },
      "source": [
        "from google.colab import drive\n",
        "drive.mount('/content/drive')"
      ],
      "execution_count": null,
      "outputs": []
    },
    {
      "cell_type": "markdown",
      "metadata": {
        "id": "V_KuxGYV4yPE"
      },
      "source": [
        "# Cashier dataset\n",
        "\n",
        "Randomized dataset with columns:\n",
        "\n",
        "- datetime\n",
        "- total_amount\n",
        "- number_of_products\n",
        "- cashier\n",
        "- store\n",
        "- city\n",
        "- discount_card_used"
      ]
    },
    {
      "cell_type": "code",
      "metadata": {
        "id": "zuMfOlXDjBj5"
      },
      "source": [
        "import pandas as pd\n",
        "import random\n",
        "from datetime import datetime, timedelta\n",
        "\n",
        "first_names = [\n",
        "    \"Maria Carmen\",\n",
        "    \"Maria\",\n",
        "    \"Carmen\",\n",
        "    \"Josefa\",\n",
        "    \"Isabel\",\n",
        "    \"Ana Maria\",\n",
        "    \"Maria Dolores\",\n",
        "    \"Maria Pilar\",\n",
        "    \"Maria Teresa\",\n",
        "    \"Ana\",\n",
        "    \"Laura\",\n",
        "    \"Francisca\",\n",
        "    \"Antonia\",\n",
        "    \"Dolores\",\n",
        "    \"Maria Angeles\",\n",
        "    \"Cristina\",\n",
        "    \"Marta\",\n",
        "    \"Maria Jose\",\n",
        "    \"Maria Isabel\",\n",
        "    \"Pilar\",\n",
        "    \"Maria Luisa\",\n",
        "    \"Lucia\",\n",
        "    \"Concepcion\",\n",
        "    \"Elena\",\n",
        "    \"Mercedes\",\n",
        "    \"Manuela\",\n",
        "    \"Rosa Maria\",\n",
        "    \"Raquel\",\n",
        "    \"Sara\",\n",
        "    \"Maria Jesus\",\n",
        "    \"Paula\",\n",
        "    \"Juana\",\n",
        "    \"Teresa\",\n",
        "    \"Rosario\",\n",
        "    \"Encarnacion\",\n",
        "    \"Beatriz\",\n",
        "    \"Rosa\",\n",
        "    \"Nuria\",\n",
        "    \"Silvia\",\n",
        "    \"Montserrat\",\n",
        "    \"Julia\",\n",
        "    \"Patricia\",\n",
        "    \"Irene\",\n",
        "    \"Monica\",\n",
        "    \"Andrea\",\n",
        "    \"Rocio\",\n",
        "    \"Angela\",\n",
        "    \"Maria Mar\",\n",
        "    \"Margarita\",\n",
        "    \"Sonia\",\n",
        "    \"Sandra\",\n",
        "    \"Susana\",\n",
        "    \"Alicia\",\n",
        "    \"Yolanda\",\n",
        "    \"Alba\",\n",
        "    \"Maria Josefa\",\n",
        "    \"Marina\",\n",
        "    \"Natalia\",\n",
        "    \"Maria Rosario\",\n",
        "    \"Inmaculada\",\n",
        "    \"Angeles\",\n",
        "    \"Esther\",\n",
        "    \"Maria Mercedes\",\n",
        "    \"Ana Isabel\",\n",
        "    \"Eva\",\n",
        "    \"Veronica\",\n",
        "    \"Amparo\",\n",
        "    \"Noelia\",\n",
        "    \"Maria Rosa\",\n",
        "    \"Maria Victoria\",\n",
        "    \"Maria Concepcion\",\n",
        "    \"Carolina\",\n",
        "    \"Claudia\",\n",
        "    \"Eva Maria\",\n",
        "    \"Catalina\",\n",
        "    \"Consuelo\",\n",
        "    \"Victoria\",\n",
        "    \"Lorena\",\n",
        "    \"Ana Belen\",\n",
        "    \"Maria Antonia\",\n",
        "    \"Maria Elena\",\n",
        "    \"Miriam\",\n",
        "    \"Emilia\",\n",
        "    \"Nerea\",\n",
        "    \"Luisa\",\n",
        "    \"Ines\",\n",
        "    \"Maria Nieves\",\n",
        "    \"Gloria\",\n",
        "    \"Lidia\",\n",
        "    \"Carla\",\n",
        "    \"Aurora\",\n",
        "    \"Esperanza\",\n",
        "    \"Josefina\",\n",
        "    \"Sofia\",\n",
        "    \"Milagros\",\n",
        "    \"Olga\",\n",
        "    \"Celia\",\n",
        "    \"Maria Soledad\",\n",
        "    \"Purificacion\",\n",
        "]\n",
        "\n",
        "store_names = [\n",
        "    \"Situwala\",\n",
        "    \"Yakkha\",\n",
        "    \"Gnawale\",\n",
        "    \"Buhyo\",\n",
        "    \"Kutal\",\n",
        "    \"Bindukar\",\n",
        "    \"Upeti\",\n",
        "    \"Mana\",\n",
        "    \"Badhyo\",\n",
        "    \"Barme\",\n",
        "    \"Dhnaju\",\n",
        "    \"Kami\",\n",
        "    \"Baidhaya\",\n",
        "    \"Ma\",\n",
        "    \"Ghimere\",\n",
        "    \"Sangami\",\n",
        "    \"Ghotane\",\n",
        "    \"Kewat\",\n",
        "    \"Singtan\",\n",
        "    \"Chitrakr\",\n",
        "    \"Khwaonjoo\",\n",
        "    \"Manjhi\",\n",
        "]\n",
        "\n",
        "city_names = [\n",
        "    \"Távora\",\n",
        "    \"Cataguases\",\n",
        "    \"Médici\",\n",
        "    \"Bressane\",\n",
        "    \"Onça\",\n",
        "    \"Brígida\",\n",
        "    \"Parati\",\n",
        "    \"Mônica\",\n",
        "    \"Pantano\",\n",
        "    \"Anastácio\",\n",
        "    \"Ostras\",\n",
        "    \"Jequitibá\",\n",
        "]\n",
        "\n",
        "\n",
        "def get_datetime_string(min_year=1980, max_year=datetime.now().year):\n",
        "    # generate a datetime in format yyyy-mm-dd hh:mm:ss.000000\n",
        "    start = datetime(min_year, 1, 1, 0, 0, 0)\n",
        "    years = max_year - min_year + 1\n",
        "    end = start + timedelta(days=365 * years)\n",
        "    return start + (end - start) * random.random()\n",
        "\n",
        "\n",
        "get_total_amount = lambda: round(random.random() * 500, 2)\n",
        "\n",
        "# Distributed evenly, not realistic.\n",
        "get_number_of_products = lambda: random.randint(0, 200)\n",
        "\n",
        "get_cashier = lambda: random.choice(first_names)\n",
        "\n",
        "get_store_name = lambda: random.choice(store_names)\n",
        "\n",
        "get_city = lambda: random.choice(city_names)\n",
        "\n",
        "get_discount_card = lambda: random.random() > 0.5\n",
        "\n",
        "\n",
        "def get_random_data(fn, n):\n",
        "    return [fn() for _ in range(n)]\n",
        "\n",
        "\n",
        "num_rows = 200\n",
        "\n",
        "data = {\n",
        "    \"datetime\": get_random_data(get_datetime_string, num_rows),\n",
        "    \"total_amount\": get_random_data(get_total_amount, num_rows),\n",
        "    \"number_of_products\": get_random_data(get_number_of_products, num_rows),\n",
        "    \"cashier\": get_random_data(get_cashier, num_rows),\n",
        "    \"store\": get_random_data(get_store_name, num_rows),\n",
        "    \"city\": get_random_data(get_city, num_rows),\n",
        "    \"discount_card_used\": get_random_data(get_discount_card, num_rows),\n",
        "}\n",
        "\n",
        "df = pd.DataFrame(data=data)"
      ],
      "execution_count": null,
      "outputs": []
    },
    {
      "cell_type": "markdown",
      "metadata": {
        "id": "HVjUZey15Gjc"
      },
      "source": [
        "# Dataset: large and small numbers\n",
        "\n",
        "Randomly generated dataset with very small and big numbers."
      ]
    },
    {
      "cell_type": "code",
      "metadata": {
        "colab": {
          "base_uri": "https://localhost:8080/",
          "height": 423
        },
        "id": "pW9jy2id5NHO",
        "outputId": "06900ced-de35-4556-e279-5874a7a78486"
      },
      "source": [
        "import pandas as pd\n",
        "import random\n",
        "\n",
        "get_small_number = lambda: random.random() / 10_000_000\n",
        "get_large_number = lambda: random.random() * 10_000_000\n",
        "\n",
        "def get_random_data(fn, n):\n",
        "    return [fn() for _ in range(n)]\n",
        "\n",
        "\n",
        "num_rows = 600\n",
        "data = {\n",
        "    \"hours\": get_random_data(get_small_number, num_rows),\n",
        "    \"kilometers\": get_random_data(get_large_number, num_rows),\n",
        "}\n",
        "\n",
        "\n",
        "\n",
        "df = pd.DataFrame(data=data)\n",
        "df"
      ],
      "execution_count": 4,
      "outputs": [
        {
          "output_type": "execute_result",
          "data": {
            "text/html": [
              "<div>\n",
              "<style scoped>\n",
              "    .dataframe tbody tr th:only-of-type {\n",
              "        vertical-align: middle;\n",
              "    }\n",
              "\n",
              "    .dataframe tbody tr th {\n",
              "        vertical-align: top;\n",
              "    }\n",
              "\n",
              "    .dataframe thead th {\n",
              "        text-align: right;\n",
              "    }\n",
              "</style>\n",
              "<table border=\"1\" class=\"dataframe\">\n",
              "  <thead>\n",
              "    <tr style=\"text-align: right;\">\n",
              "      <th></th>\n",
              "      <th>hours</th>\n",
              "      <th>kilometers</th>\n",
              "    </tr>\n",
              "  </thead>\n",
              "  <tbody>\n",
              "    <tr>\n",
              "      <th>0</th>\n",
              "      <td>2.659801e-08</td>\n",
              "      <td>7.766627e+06</td>\n",
              "    </tr>\n",
              "    <tr>\n",
              "      <th>1</th>\n",
              "      <td>5.271829e-08</td>\n",
              "      <td>3.024710e+06</td>\n",
              "    </tr>\n",
              "    <tr>\n",
              "      <th>2</th>\n",
              "      <td>9.717906e-08</td>\n",
              "      <td>3.402307e+06</td>\n",
              "    </tr>\n",
              "    <tr>\n",
              "      <th>3</th>\n",
              "      <td>3.485674e-08</td>\n",
              "      <td>7.323914e+06</td>\n",
              "    </tr>\n",
              "    <tr>\n",
              "      <th>4</th>\n",
              "      <td>5.638550e-09</td>\n",
              "      <td>7.569620e+06</td>\n",
              "    </tr>\n",
              "    <tr>\n",
              "      <th>...</th>\n",
              "      <td>...</td>\n",
              "      <td>...</td>\n",
              "    </tr>\n",
              "    <tr>\n",
              "      <th>595</th>\n",
              "      <td>8.025507e-08</td>\n",
              "      <td>6.835332e+06</td>\n",
              "    </tr>\n",
              "    <tr>\n",
              "      <th>596</th>\n",
              "      <td>7.493424e-08</td>\n",
              "      <td>9.796151e+06</td>\n",
              "    </tr>\n",
              "    <tr>\n",
              "      <th>597</th>\n",
              "      <td>3.332021e-08</td>\n",
              "      <td>3.779437e+06</td>\n",
              "    </tr>\n",
              "    <tr>\n",
              "      <th>598</th>\n",
              "      <td>1.872613e-08</td>\n",
              "      <td>1.646130e+06</td>\n",
              "    </tr>\n",
              "    <tr>\n",
              "      <th>599</th>\n",
              "      <td>1.917509e-08</td>\n",
              "      <td>6.668347e+06</td>\n",
              "    </tr>\n",
              "  </tbody>\n",
              "</table>\n",
              "<p>600 rows × 2 columns</p>\n",
              "</div>"
            ],
            "text/plain": [
              "            hours    kilometers\n",
              "0    2.659801e-08  7.766627e+06\n",
              "1    5.271829e-08  3.024710e+06\n",
              "2    9.717906e-08  3.402307e+06\n",
              "3    3.485674e-08  7.323914e+06\n",
              "4    5.638550e-09  7.569620e+06\n",
              "..            ...           ...\n",
              "595  8.025507e-08  6.835332e+06\n",
              "596  7.493424e-08  9.796151e+06\n",
              "597  3.332021e-08  3.779437e+06\n",
              "598  1.872613e-08  1.646130e+06\n",
              "599  1.917509e-08  6.668347e+06\n",
              "\n",
              "[600 rows x 2 columns]"
            ]
          },
          "metadata": {
            "tags": []
          },
          "execution_count": 4
        }
      ]
    },
    {
      "cell_type": "markdown",
      "metadata": {
        "id": "bSdfBifE68J9"
      },
      "source": [
        "# Set precision\n",
        "\n",
        "This is an IPython setting\n",
        "Outside of pandas datastructures.\n",
        "\n",
        "[Docs](https://ipython.readthedocs.io/en/stable/interactive/magics.html#magic-precision)\n",
        "\n",
        "Reset by passing no value."
      ]
    },
    {
      "cell_type": "code",
      "metadata": {
        "colab": {
          "base_uri": "https://localhost:8080/"
        },
        "id": "UNZ7mr577Aqc",
        "outputId": "aca0e2f5-dcb0-4ac5-df46-745a8018ff2a"
      },
      "source": [
        "%precision 6\n",
        "1/3"
      ],
      "execution_count": 6,
      "outputs": [
        {
          "output_type": "execute_result",
          "data": {
            "text/plain": [
              "0.333333"
            ]
          },
          "metadata": {
            "tags": []
          },
          "execution_count": 6
        }
      ]
    }
  ]
}